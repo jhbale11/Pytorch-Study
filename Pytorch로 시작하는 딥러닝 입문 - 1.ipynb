{
 "cells": [
  {
   "cell_type": "markdown",
   "id": "f2ade7c8",
   "metadata": {},
   "source": [
    "# PyTorch로 시작하는 딥러닝 입문\n",
    "## 1장 : PyTorch의 기초\n",
    "https://wikidocs.net/book/2788"
   ]
  },
  {
   "cell_type": "markdown",
   "id": "b713e877",
   "metadata": {},
   "source": [
    "# Pytorch Tensor Allocation"
   ]
  },
  {
   "cell_type": "code",
   "execution_count": 14,
   "id": "d0ea85f1",
   "metadata": {},
   "outputs": [],
   "source": [
    "import torch\n",
    "import numpy as np"
   ]
  },
  {
   "cell_type": "code",
   "execution_count": 3,
   "id": "2122ce9c",
   "metadata": {},
   "outputs": [
    {
     "name": "stdout",
     "output_type": "stream",
     "text": [
      "tensor([[1., 2., 3.],\n",
      "        [4., 5., 6.],\n",
      "        [7., 8., 9.]])\n"
     ]
    }
   ],
   "source": [
    "t = torch.FloatTensor([[1., 2., 3.],\n",
    "                      [4., 5., 6.],\n",
    "                      [7., 8., 9.]])\n",
    "print(t)"
   ]
  },
  {
   "cell_type": "code",
   "execution_count": 6,
   "id": "2363b9c6",
   "metadata": {
    "scrolled": true
   },
   "outputs": [
    {
     "name": "stdout",
     "output_type": "stream",
     "text": [
      "2\n",
      "torch.Size([3, 3])\n"
     ]
    }
   ],
   "source": [
    "print(t.dim())\n",
    "print(t.size())"
   ]
  },
  {
   "cell_type": "markdown",
   "id": "ba7d9f31",
   "metadata": {},
   "source": [
    "   ## Broadcasting\n",
    "   - 크기가 다른 텐서에 대해 사칙 연산을 수행할 필요가 있을 때 자동으로 크기를 맞춰서 연산을 수행하게 만드는 기능"
   ]
  },
  {
   "cell_type": "code",
   "execution_count": 7,
   "id": "51ca0fdb",
   "metadata": {},
   "outputs": [
    {
     "name": "stdout",
     "output_type": "stream",
     "text": [
      "tensor([[5., 5.]])\n"
     ]
    }
   ],
   "source": [
    "m1 = torch.FloatTensor([[3, 3]])\n",
    "m2 = torch.FloatTensor([[2, 2]])\n",
    "print(m1 + m2)"
   ]
  },
  {
   "cell_type": "code",
   "execution_count": 8,
   "id": "0acc624d",
   "metadata": {},
   "outputs": [
    {
     "name": "stdout",
     "output_type": "stream",
     "text": [
      "tensor([[4., 5.]])\n"
     ]
    }
   ],
   "source": [
    "m1 = torch.FloatTensor([[1, 2]])\n",
    "m2 = torch.FloatTensor([3]) # [3] -> [3, 3]\n",
    "print(m1 + m2)"
   ]
  },
  {
   "cell_type": "code",
   "execution_count": 9,
   "id": "44e5f9aa",
   "metadata": {
    "scrolled": true
   },
   "outputs": [
    {
     "name": "stdout",
     "output_type": "stream",
     "text": [
      "tensor([[4., 5.],\n",
      "        [5., 6.]])\n"
     ]
    }
   ],
   "source": [
    "# 2 x 1 Vector + 1 x 2 Vector\n",
    "m1 = torch.FloatTensor([[1, 2]])\n",
    "m2 = torch.FloatTensor([[3], [4]])\n",
    "print(m1 + m2)"
   ]
  },
  {
   "cell_type": "markdown",
   "id": "82560e9c",
   "metadata": {},
   "source": [
    "[1, 2]\n",
    "==> [[1, 2],\n",
    "     [1, 2]]\n",
    "[3]\n",
    "[4]\n",
    "==> [[3, 3],\n",
    "     [4, 4]]\n",
    "Broadcasting 단계에서 텐서는 위와 같이 변경된다. 이에 대한 덧셈을 수행하면 위와 같은 결과를 얻을 수 있음을 확인할 수 있다."
   ]
  },
  {
   "cell_type": "markdown",
   "id": "316236cf",
   "metadata": {},
   "source": [
    "## Max & ArgMax\n",
    "- Max는 원소의 최댓값을 리턴합니다.\n",
    "- ArgMax는 최대값을 가진 인덱스를 리턴합니다."
   ]
  },
  {
   "cell_type": "code",
   "execution_count": 10,
   "id": "967665ff",
   "metadata": {},
   "outputs": [
    {
     "name": "stdout",
     "output_type": "stream",
     "text": [
      "tensor(4.)\n"
     ]
    }
   ],
   "source": [
    "t = torch.FloatTensor([[1, 2], [3, 4]])\n",
    "print(t.max())"
   ]
  },
  {
   "cell_type": "code",
   "execution_count": 11,
   "id": "7224113b",
   "metadata": {},
   "outputs": [
    {
     "name": "stdout",
     "output_type": "stream",
     "text": [
      "tensor([1, 1])\n"
     ]
    }
   ],
   "source": [
    "print(t.max(dim=0)[1]) \n",
    "# dim=0인 경우 max와 argmax를 함께 리턴하는 바 [1]로 argmax에 접근할 수 있음"
   ]
  },
  {
   "cell_type": "markdown",
   "id": "b6386187",
   "metadata": {},
   "source": [
    "## View\n",
    "- 원소의 크기를 유지하면서 텐서의 크기를 변경하는 작업입니다.\n",
    "- 텐서의 크기 Shape를 변경해주는 역할을 합니다."
   ]
  },
  {
   "cell_type": "code",
   "execution_count": 15,
   "id": "413f4e83",
   "metadata": {},
   "outputs": [],
   "source": [
    "t = np.array([[[0, 1, 2],\n",
    "               [3, 4, 5]],\n",
    "              [[6, 7, 8],\n",
    "               [9, 10, 11]]])\n",
    "ft = torch.FloatTensor(t)"
   ]
  },
  {
   "cell_type": "code",
   "execution_count": 16,
   "id": "e70dcbdc",
   "metadata": {},
   "outputs": [
    {
     "name": "stdout",
     "output_type": "stream",
     "text": [
      "torch.Size([2, 2, 3])\n"
     ]
    }
   ],
   "source": [
    "print(ft.shape)"
   ]
  },
  {
   "cell_type": "code",
   "execution_count": 17,
   "id": "cf70bb6e",
   "metadata": {},
   "outputs": [
    {
     "name": "stdout",
     "output_type": "stream",
     "text": [
      "tensor([[ 0.,  1.,  2.],\n",
      "        [ 3.,  4.,  5.],\n",
      "        [ 6.,  7.,  8.],\n",
      "        [ 9., 10., 11.]])\n",
      "torch.Size([4, 3])\n"
     ]
    }
   ],
   "source": [
    "# 3차원 텐서를 2차원 텐서로 변경\n",
    "print(ft.view([-1, 3])) # ft라는 텐서를 (?, 3)의 크기로 변경\n",
    "print(ft.view([-1, 3]).shape)"
   ]
  },
  {
   "cell_type": "markdown",
   "id": "119a7d7a",
   "metadata": {},
   "source": [
    "#### view([-1,3])이 가지는 의미는 다음과 같습니다.\n",
    "- -1은 첫번째 차원은 사용자가 잘 모르겠으니 pytorch에게 맡긴다는 의미입니다.\n",
    "- 3은 두번째 차원은 길이가 3이 되도록 하라는 의미입니다.\n",
    "\n",
    "= view는 기본적으로 변경 전과 변경 후의 tensor 원소 수가 유지되어야 합니다.\n",
    "= pytorch는 view 사이즈가 -1로 설정되면 다른 차원으로부터 해당 값을 유추합니다."
   ]
  },
  {
   "cell_type": "markdown",
   "id": "25861451",
   "metadata": {},
   "source": [
    "## Squeeze\n",
    "- 1인 차원을 제거한다는 의미입니다.\n",
    "\n",
    "## Unsqueeze\n",
    "- 특정 위치에 1인 차원을 추가한다는 의미입니다."
   ]
  },
  {
   "cell_type": "code",
   "execution_count": 18,
   "id": "1b822bad",
   "metadata": {},
   "outputs": [
    {
     "name": "stdout",
     "output_type": "stream",
     "text": [
      "tensor([[0.],\n",
      "        [1.],\n",
      "        [2.]])\n",
      "torch.Size([3, 1])\n"
     ]
    }
   ],
   "source": [
    "# squeeze : 3 x 1 to 1차원 벡터\n",
    "ft = torch.FloatTensor([[0], [1], [2]])\n",
    "print(ft)\n",
    "print(ft.shape)"
   ]
  },
  {
   "cell_type": "code",
   "execution_count": 19,
   "id": "e9acde45",
   "metadata": {},
   "outputs": [
    {
     "name": "stdout",
     "output_type": "stream",
     "text": [
      "tensor([0., 1., 2.])\n",
      "torch.Size([3])\n"
     ]
    }
   ],
   "source": [
    "print(ft.squeeze())\n",
    "print(ft.squeeze().shape)"
   ]
  },
  {
   "cell_type": "code",
   "execution_count": 20,
   "id": "cf8b331b",
   "metadata": {},
   "outputs": [
    {
     "name": "stdout",
     "output_type": "stream",
     "text": [
      "torch.Size([3])\n"
     ]
    }
   ],
   "source": [
    "ft = torch.Tensor([0, 1, 2])\n",
    "print(ft.shape)"
   ]
  },
  {
   "cell_type": "code",
   "execution_count": 21,
   "id": "c499afdb",
   "metadata": {},
   "outputs": [
    {
     "name": "stdout",
     "output_type": "stream",
     "text": [
      "torch.Size([3])\n"
     ]
    }
   ],
   "source": [
    "# unsqueeze : 1차원 텐서 to (1,3) 2차원 텐서\n",
    "ft = torch.Tensor([0, 1, 2])\n",
    "print(ft.shape)"
   ]
  },
  {
   "cell_type": "code",
   "execution_count": 22,
   "id": "7ee89292",
   "metadata": {},
   "outputs": [
    {
     "name": "stdout",
     "output_type": "stream",
     "text": [
      "tensor([[0., 1., 2.]])\n",
      "torch.Size([1, 3])\n"
     ]
    }
   ],
   "source": [
    "print(ft.unsqueeze(0)) # 인덱스가 0부터 시작하므로 0은 첫번째 차원을 의미한다.\n",
    "print(ft.unsqueeze(0).shape)"
   ]
  },
  {
   "cell_type": "code",
   "execution_count": 23,
   "id": "ff2aa554",
   "metadata": {},
   "outputs": [
    {
     "name": "stdout",
     "output_type": "stream",
     "text": [
      "tensor([[0., 1., 2.]])\n",
      "torch.Size([1, 3])\n"
     ]
    }
   ],
   "source": [
    "print(ft.view(1, -1)) # view로도 같은 연산 수행 가능\n",
    "print(ft.view(1, -1).shape)"
   ]
  },
  {
   "cell_type": "markdown",
   "id": "f4288553",
   "metadata": {},
   "source": [
    "## Concatenate\n",
    "- pandas의 concatenation과 동일하게 두 텐서를 연결하는 방법입니다."
   ]
  },
  {
   "cell_type": "code",
   "execution_count": 24,
   "id": "f46aadc8",
   "metadata": {},
   "outputs": [],
   "source": [
    "x = torch.FloatTensor([[1, 2], [3, 4]])\n",
    "y = torch.FloatTensor([[5, 6], [7, 8]])"
   ]
  },
  {
   "cell_type": "code",
   "execution_count": 25,
   "id": "ccb97751",
   "metadata": {},
   "outputs": [
    {
     "name": "stdout",
     "output_type": "stream",
     "text": [
      "tensor([[1., 2.],\n",
      "        [3., 4.],\n",
      "        [5., 6.],\n",
      "        [7., 8.]])\n"
     ]
    }
   ],
   "source": [
    "print(torch.cat([x, y], dim=0)) # dim=0일 경우 1차원이 늘어납니다. (2x2)->(4x2)"
   ]
  },
  {
   "cell_type": "code",
   "execution_count": 26,
   "id": "0fa2e23b",
   "metadata": {},
   "outputs": [
    {
     "name": "stdout",
     "output_type": "stream",
     "text": [
      "tensor([[1., 2., 5., 6.],\n",
      "        [3., 4., 7., 8.]])\n"
     ]
    }
   ],
   "source": [
    "print(torch.cat([x, y], dim=1)) # dim=1일 경우 2차원이 늘어납니다. (2x2)->(2x4)"
   ]
  },
  {
   "cell_type": "markdown",
   "id": "c31caaa0",
   "metadata": {},
   "source": [
    "## Stacking\n",
    "- 연결을 하는 또 다른 방법입니다.\n",
    "- 벡터 여러개를 stack에 순차적으로 쌓아 텐서를 연결합니다."
   ]
  },
  {
   "cell_type": "code",
   "execution_count": 27,
   "id": "358204ae",
   "metadata": {},
   "outputs": [],
   "source": [
    "x = torch.FloatTensor([1, 4])\n",
    "y = torch.FloatTensor([2, 5])\n",
    "z = torch.FloatTensor([3, 6])"
   ]
  },
  {
   "cell_type": "code",
   "execution_count": 28,
   "id": "50210b51",
   "metadata": {},
   "outputs": [
    {
     "name": "stdout",
     "output_type": "stream",
     "text": [
      "tensor([[1., 4.],\n",
      "        [2., 5.],\n",
      "        [3., 6.]])\n"
     ]
    }
   ],
   "source": [
    "print(torch.stack([x, y, z]))"
   ]
  },
  {
   "cell_type": "code",
   "execution_count": null,
   "id": "b17f0329",
   "metadata": {},
   "outputs": [],
   "source": []
  }
 ],
 "metadata": {
  "kernelspec": {
   "display_name": "Python 3 (ipykernel)",
   "language": "python",
   "name": "python3"
  },
  "language_info": {
   "codemirror_mode": {
    "name": "ipython",
    "version": 3
   },
   "file_extension": ".py",
   "mimetype": "text/x-python",
   "name": "python",
   "nbconvert_exporter": "python",
   "pygments_lexer": "ipython3",
   "version": "3.9.7"
  }
 },
 "nbformat": 4,
 "nbformat_minor": 5
}
